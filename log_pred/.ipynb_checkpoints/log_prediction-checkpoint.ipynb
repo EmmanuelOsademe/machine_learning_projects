{
 "cells": [
  {
   "cell_type": "code",
   "execution_count": 1,
   "id": "71affe4b-9040-416a-8534-f5ba60bf2051",
   "metadata": {},
   "outputs": [],
   "source": [
    "%load_ext autoreload\n",
    "%autoreload 2"
   ]
  },
  {
   "cell_type": "code",
   "execution_count": 5,
   "id": "042b3f1d-7601-4b46-aa58-d51a30b1562c",
   "metadata": {},
   "outputs": [
    {
     "data": {
      "text/html": [
       "<div>\n",
       "<style scoped>\n",
       "    .dataframe tbody tr th:only-of-type {\n",
       "        vertical-align: middle;\n",
       "    }\n",
       "\n",
       "    .dataframe tbody tr th {\n",
       "        vertical-align: top;\n",
       "    }\n",
       "\n",
       "    .dataframe thead th {\n",
       "        text-align: right;\n",
       "    }\n",
       "</style>\n",
       "<table border=\"1\" class=\"dataframe\">\n",
       "  <thead>\n",
       "    <tr style=\"text-align: right;\">\n",
       "      <th></th>\n",
       "      <th>DEPTH_WMSF</th>\n",
       "      <th>HCGR</th>\n",
       "      <th>HFK</th>\n",
       "      <th>HTHO</th>\n",
       "      <th>HURA</th>\n",
       "      <th>IDPH</th>\n",
       "      <th>IMPH</th>\n",
       "      <th>SFLU</th>\n",
       "      <th>lithology</th>\n",
       "      <th>munsel_color</th>\n",
       "    </tr>\n",
       "  </thead>\n",
       "  <tbody>\n",
       "    <tr>\n",
       "      <th>0</th>\n",
       "      <td>0.0724</td>\n",
       "      <td>5.8481</td>\n",
       "      <td>0.0959</td>\n",
       "      <td>1.3131</td>\n",
       "      <td>-0.1712</td>\n",
       "      <td>1950.0000</td>\n",
       "      <td>1765.0116</td>\n",
       "      <td>0.0915</td>\n",
       "      <td>Sandy Mud</td>\n",
       "      <td>5R 4 10</td>\n",
       "    </tr>\n",
       "    <tr>\n",
       "      <th>1</th>\n",
       "      <td>0.0736</td>\n",
       "      <td>0.5881</td>\n",
       "      <td>0.0116</td>\n",
       "      <td>0.1206</td>\n",
       "      <td>0.0077</td>\n",
       "      <td>46.6488</td>\n",
       "      <td>124.4472</td>\n",
       "      <td>1.5966</td>\n",
       "      <td>Sandy Mud</td>\n",
       "      <td>10PB 0.2 18</td>\n",
       "    </tr>\n",
       "    <tr>\n",
       "      <th>2</th>\n",
       "      <td>0.0880</td>\n",
       "      <td>1.9945</td>\n",
       "      <td>0.0354</td>\n",
       "      <td>0.4317</td>\n",
       "      <td>0.0501</td>\n",
       "      <td>1950.0000</td>\n",
       "      <td>1950.0000</td>\n",
       "      <td>0.1589</td>\n",
       "      <td>Interbedded sand and mud</td>\n",
       "      <td>2.5YR 8 10</td>\n",
       "    </tr>\n",
       "    <tr>\n",
       "      <th>3</th>\n",
       "      <td>0.0920</td>\n",
       "      <td>22.4306</td>\n",
       "      <td>0.6522</td>\n",
       "      <td>3.3707</td>\n",
       "      <td>0.0916</td>\n",
       "      <td>1950.0000</td>\n",
       "      <td>1950.0000</td>\n",
       "      <td>9700.0000</td>\n",
       "      <td>Sandy Mud</td>\n",
       "      <td>10PB 0.2 18</td>\n",
       "    </tr>\n",
       "    <tr>\n",
       "      <th>4</th>\n",
       "      <td>0.2248</td>\n",
       "      <td>7.6691</td>\n",
       "      <td>0.1369</td>\n",
       "      <td>1.6566</td>\n",
       "      <td>-0.2301</td>\n",
       "      <td>1950.0000</td>\n",
       "      <td>1765.0116</td>\n",
       "      <td>0.0915</td>\n",
       "      <td>Sandy Mud</td>\n",
       "      <td>10PB 0.2 18</td>\n",
       "    </tr>\n",
       "  </tbody>\n",
       "</table>\n",
       "</div>"
      ],
      "text/plain": [
       "   DEPTH_WMSF     HCGR     HFK    HTHO    HURA       IDPH       IMPH  \\\n",
       "0      0.0724   5.8481  0.0959  1.3131 -0.1712  1950.0000  1765.0116   \n",
       "1      0.0736   0.5881  0.0116  0.1206  0.0077    46.6488   124.4472   \n",
       "2      0.0880   1.9945  0.0354  0.4317  0.0501  1950.0000  1950.0000   \n",
       "3      0.0920  22.4306  0.6522  3.3707  0.0916  1950.0000  1950.0000   \n",
       "4      0.2248   7.6691  0.1369  1.6566 -0.2301  1950.0000  1765.0116   \n",
       "\n",
       "        SFLU                  lithology munsel_color  \n",
       "0     0.0915                  Sandy Mud      5R 4 10  \n",
       "1     1.5966                  Sandy Mud  10PB 0.2 18  \n",
       "2     0.1589  Interbedded sand and mud    2.5YR 8 10  \n",
       "3  9700.0000                  Sandy Mud  10PB 0.2 18  \n",
       "4     0.0915                  Sandy Mud  10PB 0.2 18  "
      ]
     },
     "execution_count": 5,
     "metadata": {},
     "output_type": "execute_result"
    }
   ],
   "source": [
    "import pandas as pd\n",
    "\n",
    "df = pd.read_csv(\"./log_data.csv\") # Data for training\n",
    "df.head()"
   ]
  },
  {
   "cell_type": "code",
   "execution_count": 7,
   "id": "275836c0-4a7a-4f56-97c6-87e18e75d0b7",
   "metadata": {},
   "outputs": [
    {
     "name": "stdout",
     "output_type": "stream",
     "text": [
      "(11631, 10)\n",
      "551\n"
     ]
    }
   ],
   "source": [
    "# Inspection\n",
    "print(df.shape)\n",
    "print(df.duplicated().sum())"
   ]
  },
  {
   "cell_type": "code",
   "execution_count": 9,
   "id": "2fed5eed-a96a-48f6-9f8f-9b2b19b35343",
   "metadata": {},
   "outputs": [
    {
     "name": "stdout",
     "output_type": "stream",
     "text": [
      "(11080, 10)\n",
      "0\n"
     ]
    }
   ],
   "source": [
    "# Remove duplicate entries\n",
    "df = df[~df.duplicated()] # Alternative to this is df.drop_duplicates()\n",
    "print(df.shape)\n",
    "print(df.duplicated().sum())"
   ]
  },
  {
   "cell_type": "code",
   "execution_count": 11,
   "id": "0d21d523-c704-4af7-851b-241f6d4f84f4",
   "metadata": {},
   "outputs": [],
   "source": [
    "import seaborn as sns\n",
    "import numpy as np\n",
    "import matplotlib.pyplot as plt"
   ]
  },
  {
   "cell_type": "code",
   "execution_count": 13,
   "id": "eb15273b-bc8b-4efb-9728-486f3c9c90ae",
   "metadata": {},
   "outputs": [
    {
     "data": {
      "text/plain": [
       "<Axes: xlabel='DEPTH_WMSF', ylabel='lithology'>"
      ]
     },
     "execution_count": 13,
     "metadata": {},
     "output_type": "execute_result"
    },
    {
     "data": {
      "image/png": "[encoded data removed]",
      "text/plain": [
       "<Figure size 640x480 with 1 Axes>"
      ]
     },
     "metadata": {},
     "output_type": "display_data"
    }
   ],
   "source": [
    "sns.scatterplot(data=df, x=\"DEPTH_WMSF\", y=\"lithology\", hue=\"lithology\")"
   ]
  },
  {
   "cell_type": "code",
   "execution_count": 15,
   "id": "aa32be57-a70e-4427-ab54-72bbb83a199c",
   "metadata": {},
   "outputs": [],
   "source": [
    "def custom_train_test_split(data, min_threshold, max_threshold):\n",
    "    data_test = data[(data[\"DEPTH_WMSF\"] >= min_threshold) & (data[\"DEPTH_WMSF\"] <= max_threshold)]\n",
    "    data_train = data[(data[\"DEPTH_WMSF\"] < min_threshold) | (data[\"DEPTH_WMSF\"] > max_threshold)]\n",
    "    return data_train, data_test"
   ]
  },
  {
   "cell_type": "code",
   "execution_count": 19,
   "id": "62fb6188-5a0b-4232-a9a1-fe06ab98571e",
   "metadata": {},
   "outputs": [
    {
     "name": "stdout",
     "output_type": "stream",
     "text": [
      "Percentage of data in test set is 21.98%\n"
     ]
    }
   ],
   "source": [
    "training_data, test_data = custom_train_test_split(df, 85, 165)\n",
    "print(f\"Percentage of data in test set is {(len(test_data) * 100/len(df)):.2f}%\")"
   ]
  },
  {
   "cell_type": "code",
   "execution_count": 21,
   "id": "94949ead-41fa-4c71-885b-72f69f419e8c",
   "metadata": {},
   "outputs": [
    {
     "name": "stdout",
     "output_type": "stream",
     "text": [
      "lithology\n",
      "Mud                          3435\n",
      "Marl                         1678\n",
      "Interbedded clay and mud     1616\n",
      "Sandy Mud                    1160\n",
      "Interbedded sand and mud      756\n",
      "Name: count, dtype: int64\n",
      "lithology\n",
      "Mud                          1498\n",
      "Marl                          325\n",
      "Interbedded clay and mud      230\n",
      "Sandy Mud                     209\n",
      "Interbedded sand and mud      173\n",
      "Name: count, dtype: int64\n"
     ]
    }
   ],
   "source": [
    "print(training_data[\"lithology\"].value_counts())\n",
    "print(test_data[\"lithology\"].value_counts())"
   ]
  },
  {
   "cell_type": "code",
   "execution_count": 25,
   "id": "f9d54f3f-c49c-4eae-b54f-11cbfd9e9b82",
   "metadata": {},
   "outputs": [
    {
     "data": {
      "text/html": [
       "<div>\n",
       "<style scoped>\n",
       "    .dataframe tbody tr th:only-of-type {\n",
       "        vertical-align: middle;\n",
       "    }\n",
       "\n",
       "    .dataframe tbody tr th {\n",
       "        vertical-align: top;\n",
       "    }\n",
       "\n",
       "    .dataframe thead th {\n",
       "        text-align: right;\n",
       "    }\n",
       "</style>\n",
       "<table border=\"1\" class=\"dataframe\">\n",
       "  <thead>\n",
       "    <tr style=\"text-align: right;\">\n",
       "      <th></th>\n",
       "      <th>DEPTH_WMSF</th>\n",
       "      <th>HCGR</th>\n",
       "      <th>HFK</th>\n",
       "      <th>HTHO</th>\n",
       "      <th>HURA</th>\n",
       "      <th>IDPH</th>\n",
       "      <th>IMPH</th>\n",
       "      <th>SFLU</th>\n",
       "      <th>lithology</th>\n",
       "      <th>munsel_color</th>\n",
       "    </tr>\n",
       "  </thead>\n",
       "  <tbody>\n",
       "    <tr>\n",
       "      <th>count</th>\n",
       "      <td>8645.000000</td>\n",
       "      <td>8645.000000</td>\n",
       "      <td>8645.000000</td>\n",
       "      <td>8645.000000</td>\n",
       "      <td>8645.000000</td>\n",
       "      <td>8645.000000</td>\n",
       "      <td>8645.000000</td>\n",
       "      <td>8645.000000</td>\n",
       "      <td>8645</td>\n",
       "      <td>8645</td>\n",
       "    </tr>\n",
       "    <tr>\n",
       "      <th>unique</th>\n",
       "      <td>NaN</td>\n",
       "      <td>NaN</td>\n",
       "      <td>NaN</td>\n",
       "      <td>NaN</td>\n",
       "      <td>NaN</td>\n",
       "      <td>NaN</td>\n",
       "      <td>NaN</td>\n",
       "      <td>NaN</td>\n",
       "      <td>5</td>\n",
       "      <td>40</td>\n",
       "    </tr>\n",
       "    <tr>\n",
       "      <th>top</th>\n",
       "      <td>NaN</td>\n",
       "      <td>NaN</td>\n",
       "      <td>NaN</td>\n",
       "      <td>NaN</td>\n",
       "      <td>NaN</td>\n",
       "      <td>NaN</td>\n",
       "      <td>NaN</td>\n",
       "      <td>NaN</td>\n",
       "      <td>Mud</td>\n",
       "      <td>10B 8 12</td>\n",
       "    </tr>\n",
       "    <tr>\n",
       "      <th>freq</th>\n",
       "      <td>NaN</td>\n",
       "      <td>NaN</td>\n",
       "      <td>NaN</td>\n",
       "      <td>NaN</td>\n",
       "      <td>NaN</td>\n",
       "      <td>NaN</td>\n",
       "      <td>NaN</td>\n",
       "      <td>NaN</td>\n",
       "      <td>3435</td>\n",
       "      <td>2797</td>\n",
       "    </tr>\n",
       "    <tr>\n",
       "      <th>mean</th>\n",
       "      <td>219.082236</td>\n",
       "      <td>38.131423</td>\n",
       "      <td>1.029344</td>\n",
       "      <td>6.199051</td>\n",
       "      <td>1.490388</td>\n",
       "      <td>368.278207</td>\n",
       "      <td>426.310959</td>\n",
       "      <td>599.926439</td>\n",
       "      <td>NaN</td>\n",
       "      <td>NaN</td>\n",
       "    </tr>\n",
       "    <tr>\n",
       "      <th>std</th>\n",
       "      <td>129.632030</td>\n",
       "      <td>21.314662</td>\n",
       "      <td>0.634712</td>\n",
       "      <td>3.249309</td>\n",
       "      <td>0.842865</td>\n",
       "      <td>758.244064</td>\n",
       "      <td>788.382452</td>\n",
       "      <td>2335.089100</td>\n",
       "      <td>NaN</td>\n",
       "      <td>NaN</td>\n",
       "    </tr>\n",
       "    <tr>\n",
       "      <th>min</th>\n",
       "      <td>0.072400</td>\n",
       "      <td>0.029500</td>\n",
       "      <td>-0.070000</td>\n",
       "      <td>-0.136600</td>\n",
       "      <td>-0.414000</td>\n",
       "      <td>0.362000</td>\n",
       "      <td>0.438100</td>\n",
       "      <td>0.091500</td>\n",
       "      <td>NaN</td>\n",
       "      <td>NaN</td>\n",
       "    </tr>\n",
       "    <tr>\n",
       "      <th>25%</th>\n",
       "      <td>75.030000</td>\n",
       "      <td>18.775500</td>\n",
       "      <td>0.467600</td>\n",
       "      <td>3.045500</td>\n",
       "      <td>0.781900</td>\n",
       "      <td>1.191000</td>\n",
       "      <td>1.119000</td>\n",
       "      <td>0.628100</td>\n",
       "      <td>NaN</td>\n",
       "      <td>NaN</td>\n",
       "    </tr>\n",
       "    <tr>\n",
       "      <th>50%</th>\n",
       "      <td>232.939600</td>\n",
       "      <td>40.084900</td>\n",
       "      <td>1.025000</td>\n",
       "      <td>6.746200</td>\n",
       "      <td>1.470400</td>\n",
       "      <td>1.389300</td>\n",
       "      <td>1.287500</td>\n",
       "      <td>0.785400</td>\n",
       "      <td>NaN</td>\n",
       "      <td>NaN</td>\n",
       "    </tr>\n",
       "    <tr>\n",
       "      <th>75%</th>\n",
       "      <td>324.547600</td>\n",
       "      <td>54.876100</td>\n",
       "      <td>1.523200</td>\n",
       "      <td>8.714100</td>\n",
       "      <td>2.039800</td>\n",
       "      <td>46.648800</td>\n",
       "      <td>124.447200</td>\n",
       "      <td>1.107600</td>\n",
       "      <td>NaN</td>\n",
       "      <td>NaN</td>\n",
       "    </tr>\n",
       "    <tr>\n",
       "      <th>max</th>\n",
       "      <td>449.058400</td>\n",
       "      <td>93.633400</td>\n",
       "      <td>2.793700</td>\n",
       "      <td>16.031500</td>\n",
       "      <td>5.351800</td>\n",
       "      <td>1950.000000</td>\n",
       "      <td>9700.000000</td>\n",
       "      <td>9700.000000</td>\n",
       "      <td>NaN</td>\n",
       "      <td>NaN</td>\n",
       "    </tr>\n",
       "  </tbody>\n",
       "</table>\n",
       "</div>"
      ],
      "text/plain": [
       "         DEPTH_WMSF         HCGR          HFK         HTHO         HURA  \\\n",
       "count   8645.000000  8645.000000  8645.000000  8645.000000  8645.000000   \n",
       "unique          NaN          NaN          NaN          NaN          NaN   \n",
       "top             NaN          NaN          NaN          NaN          NaN   \n",
       "freq            NaN          NaN          NaN          NaN          NaN   \n",
       "mean     219.082236    38.131423     1.029344     6.199051     1.490388   \n",
       "std      129.632030    21.314662     0.634712     3.249309     0.842865   \n",
       "min        0.072400     0.029500    -0.070000    -0.136600    -0.414000   \n",
       "25%       75.030000    18.775500     0.467600     3.045500     0.781900   \n",
       "50%      232.939600    40.084900     1.025000     6.746200     1.470400   \n",
       "75%      324.547600    54.876100     1.523200     8.714100     2.039800   \n",
       "max      449.058400    93.633400     2.793700    16.031500     5.351800   \n",
       "\n",
       "               IDPH         IMPH         SFLU lithology munsel_color  \n",
       "count   8645.000000  8645.000000  8645.000000      8645         8645  \n",
       "unique          NaN          NaN          NaN         5           40  \n",
       "top             NaN          NaN          NaN       Mud     10B 8 12  \n",
       "freq            NaN          NaN          NaN      3435         2797  \n",
       "mean     368.278207   426.310959   599.926439       NaN          NaN  \n",
       "std      758.244064   788.382452  2335.089100       NaN          NaN  \n",
       "min        0.362000     0.438100     0.091500       NaN          NaN  \n",
       "25%        1.191000     1.119000     0.628100       NaN          NaN  \n",
       "50%        1.389300     1.287500     0.785400       NaN          NaN  \n",
       "75%       46.648800   124.447200     1.107600       NaN          NaN  \n",
       "max     1950.000000  9700.000000  9700.000000       NaN          NaN  "
      ]
     },
     "execution_count": 25,
     "metadata": {},
     "output_type": "execute_result"
    }
   ],
   "source": [
    "eda_train_set = training_data.copy(deep=True)\n",
    "eda_train_set.describe(include=\"all\")"
   ]
  },
  {
   "cell_type": "code",
   "execution_count": 27,
   "id": "0903b840-1403-4b26-9a84-fb09fa0d1c1e",
   "metadata": {},
   "outputs": [],
   "source": [
    "from sklearn import set_config\n",
    "from sklearn.pipeline import Pipeline\n",
    "from sklearn.compose import ColumnTransformer\n",
    "from sklearn.impute import SimpleImputer\n",
    "from sklearn.base import BaseEstimator, TransformerMixin, OneToOneFeatureMixin\n",
    "from sklearn.preprocessing import StandardScaler, RobustScaler, MinMaxScaler\n",
    "\n",
    "set_config(transform_output=\"pandas\")"
   ]
  },
  {
   "cell_type": "code",
   "execution_count": null,
   "id": "d5869f34-4214-4107-92e0-bb1ea04c8dab",
   "metadata": {},
   "outputs": [],
   "source": [
    "class RemoveBadValues(BaseEstimator, TransformerMixin, OneToOneFeatureMixin):\n",
    "    def __init__(self, min_threshold: int = 0, max_threshold: int = 100):\n",
    "        self.min_threshold = min_threshold\n",
    "        self.max_threshold = max_threshold\n",
    "        return\n",
    "\n",
    "    def fit(self, X, y=None):\n",
    "        if isinstance(X, pd.DataFrame):\n",
    "            self.columns = X.columns\n",
    "        if isinstance(X, pd.Series):\n",
    "            self.columns = [X.name]\n",
    "        if isinstance(X, np.ndarray):\n",
    "            raise TypeError(\"X must be a pandas DataFrame or Series\")\n",
    "        return self\n",
    "\n",
    "    def transform(self, X):\n",
    "        vals = X.values\n",
    "        print(vals)\n",
    "        vals[vals < self.min_threshold] = np.nan\n",
    "        vals[vals > self.max_threshold] = np.nan\n",
    "        return vals\n",
    "        \n",
    "    def get_feature_names_out(self):\n",
    "        return self.columns\n",
    "        "
   ]
  }
 ],
 "metadata": {
  "kernelspec": {
   "display_name": "Python 3 (ipykernel)",
   "language": "python",
   "name": "python3"
  },
  "language_info": {
   "codemirror_mode": {
    "name": "ipython",
    "version": 3
   },
   "file_extension": ".py",
   "mimetype": "text/x-python",
   "name": "python",
   "nbconvert_exporter": "python",
   "pygments_lexer": "ipython3",
   "version": "3.12.4"
  }
 },
 "nbformat": 4,
 "nbformat_minor": 5
}
